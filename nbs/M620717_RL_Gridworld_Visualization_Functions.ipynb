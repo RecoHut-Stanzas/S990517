{
  "nbformat": 4,
  "nbformat_minor": 0,
  "metadata": {
    "colab": {
      "name": "M620717 | RL Gridworld Visualization Functions",
      "provenance": [],
      "collapsed_sections": [],
      "authorship_tag": "ABX9TyOtFkOdx2WsB23iBTlg0tGG",
      "include_colab_link": true
    },
    "kernelspec": {
      "name": "python3",
      "display_name": "Python 3"
    },
    "language_info": {
      "name": "python"
    }
  },
  "cells": [
    {
      "cell_type": "markdown",
      "metadata": {
        "id": "view-in-github",
        "colab_type": "text"
      },
      "source": [
        "<a href=\"https://colab.research.google.com/github/RecoHut-Projects/drl-recsys/blob/S990517/modules/M620717_RL_Gridworld_Visualization_Functions.ipynb\" target=\"_parent\"><img src=\"https://colab.research.google.com/assets/colab-badge.svg\" alt=\"Open In Colab\"/></a>"
      ]
    },
    {
      "cell_type": "markdown",
      "metadata": {
        "id": "PBDo4Ej8rjPE"
      },
      "source": [
        "# RL Gridworld Visualization Functions"
      ]
    },
    {
      "cell_type": "code",
      "metadata": {
        "id": "Plva2KQHrsSu"
      },
      "source": [
        "import matplotlib.pyplot as plt\n",
        "import numpy as np\n",
        "import seaborn as sns"
      ],
      "execution_count": 1,
      "outputs": []
    },
    {
      "cell_type": "code",
      "metadata": {
        "id": "pFxhVGhKrxIn"
      },
      "source": [
        "def visualize_maze_values(q_table, env, isMaze=True, arrow=True):\n",
        "    \"\"\"Plot the Tabular Q-Value function\n",
        "    Args:\n",
        "        q_table (np.array): Tabular Q-Value function\n",
        "        env (gym.Env): Gym environment with discrete space. E.g: MazeEnv\n",
        "        isMaze (bool, optional): True for MazeEnv. Defaults to True.\n",
        "        arrow (bool, optional): Set to True for drawing directional arrows. Defaults to True.\n",
        "    \"\"\"\n",
        "    # (x,y) cooridnates\n",
        "    direction = {\n",
        "        0: (0, -0.4),\n",
        "        1: (0, 0.4),\n",
        "        2: (-0.4, 0),\n",
        "        3: (0.4, 0),\n",
        "    }\n",
        "    v = np.max(q_table, axis=1)\n",
        "    best_action = np.argmax(q_table, axis=1)\n",
        "    if isMaze:\n",
        "        idx2cell = env.index_to_coordinate_map\n",
        "        for i in range(8):\n",
        "            _, ax = plt.subplots()\n",
        "            ax.set_axis_off()\n",
        "            y_mat = np.zeros(env.dim)\n",
        "            for j in range(len(idx2cell)):\n",
        "                pos = idx2cell[j]\n",
        "                y_mat[pos[0], pos[1]] = v[8 * j + i]\n",
        "                if arrow:\n",
        "                    a = best_action[8 * j + i]\n",
        "                    ax.arrow(\n",
        "                        pos[1],\n",
        "                        pos[0],\n",
        "                        direction[a][0],\n",
        "                        direction[a][1],\n",
        "                        head_width=0.05,\n",
        "                        head_length=0.1,\n",
        "                        fc=\"g\",\n",
        "                        ec=\"g\",\n",
        "                    )\n",
        "            y_mat[env.goal_pos] = max(v) + 0.1\n",
        "            ax.imshow(y_mat, cmap=\"hot\")\n",
        "            plt.savefig(f\"results/value_iter_{i}.png\", bbox_inches=\"tight\")\n",
        "\n",
        "    else:\n",
        "        n = int(np.sqrt(len(v)))\n",
        "        state_value_func = np.zeros((n, n))\n",
        "        for r in range(n):\n",
        "            for c in range(n):\n",
        "                if not (r == (n - 1) and c == (n - 1)):\n",
        "                    state_value_func[r, c] = v[n * c + r]\n",
        "                    if arrow:\n",
        "                        d = direction[best_action[n * c + r]]\n",
        "                        plt.arrow(\n",
        "                            c,\n",
        "                            r,\n",
        "                            d[0],\n",
        "                            d[1],\n",
        "                            head_width=0.05,\n",
        "                            head_length=0.1,\n",
        "                            fc=\"r\",\n",
        "                            ec=\"r\",\n",
        "                        )\n",
        "        state_value_func[env.goal_pos] = max(v[:-1]) + 0.1\n",
        "        plt.imshow(state_value_func, cmap=\"hot\")\n",
        "    plt.show()"
      ],
      "execution_count": 2,
      "outputs": []
    },
    {
      "cell_type": "code",
      "metadata": {
        "id": "Dg2AMluXrveu"
      },
      "source": [
        "def visualize_grid_state_values(grid_state_values):\n",
        "    \"\"\"Visualizes the state value function for the grid\"\"\"\n",
        "    plt.figure(figsize=(10, 5))\n",
        "    p = sns.heatmap(\n",
        "        grid_state_values,\n",
        "        cmap=\"Greens\",\n",
        "        annot=True,\n",
        "        fmt=\".1f\",\n",
        "        annot_kws={\"size\": 16},\n",
        "        square=True,\n",
        "    )\n",
        "    p.set_ylim(len(grid_state_values) + 0.01, -0.01)\n",
        "    plt.show()\n",
        "\n",
        "\n",
        "def visualize_grid_action_values(grid_action_values):\n",
        "    top = grid_action_values[:, 0].reshape((3, 4))\n",
        "    top_value_positions = [\n",
        "        (0.38, 0.25),\n",
        "        (1.38, 0.25),\n",
        "        (2.38, 0.25),\n",
        "        (3.38, 0.25),\n",
        "        (0.38, 1.25),\n",
        "        (1.38, 1.25),\n",
        "        (2.38, 1.25),\n",
        "        (3.38, 1.25),\n",
        "        (0.38, 2.25),\n",
        "        (1.38, 2.25),\n",
        "        (2.38, 2.25),\n",
        "        (3.38, 2.25),\n",
        "    ]\n",
        "    right = grid_action_values[:, 1].reshape((3, 4))\n",
        "    right_value_positions = [\n",
        "        (0.65, 0.5),\n",
        "        (1.65, 0.5),\n",
        "        (2.65, 0.5),\n",
        "        (3.65, 0.5),\n",
        "        (0.65, 1.5),\n",
        "        (1.65, 1.5),\n",
        "        (2.65, 1.5),\n",
        "        (3.65, 1.5),\n",
        "        (0.65, 2.5),\n",
        "        (1.65, 2.5),\n",
        "        (2.65, 2.5),\n",
        "        (3.65, 2.5),\n",
        "    ]\n",
        "    bottom = grid_action_values[:, 2].reshape((3, 4))\n",
        "    bottom_value_positions = [\n",
        "        (0.38, 0.8),\n",
        "        (1.38, 0.8),\n",
        "        (2.38, 0.8),\n",
        "        (3.38, 0.8),\n",
        "        (0.38, 1.8),\n",
        "        (1.38, 1.8),\n",
        "        (2.38, 1.8),\n",
        "        (3.38, 1.8),\n",
        "        (0.38, 2.8),\n",
        "        (1.38, 2.8),\n",
        "        (2.38, 2.8),\n",
        "        (3.38, 2.8),\n",
        "    ]\n",
        "    left = grid_action_values[:, 3].reshape((3, 4))\n",
        "    left_value_positions = [\n",
        "        (0.05, 0.5),\n",
        "        (1.05, 0.5),\n",
        "        (2.05, 0.5),\n",
        "        (3.05, 0.5),\n",
        "        (0.05, 1.5),\n",
        "        (1.05, 1.5),\n",
        "        (2.05, 1.5),\n",
        "        (3.05, 1.5),\n",
        "        (0.05, 2.5),\n",
        "        (1.05, 2.5),\n",
        "        (2.05, 2.5),\n",
        "        (3.05, 2.5),\n",
        "    ]\n",
        "\n",
        "    fig, ax = plt.subplots(figsize=(12, 5))\n",
        "    ax.set_ylim(3, 0)\n",
        "    tripcolor = plot_triangular(\n",
        "        left,\n",
        "        top,\n",
        "        right,\n",
        "        bottom,\n",
        "        ax=ax,\n",
        "        triplotkw={\"color\": \"k\", \"lw\": 1},\n",
        "        tripcolorkw={\"cmap\": \"rainbow_r\"},\n",
        "    )\n",
        "\n",
        "    ax.margins(0)\n",
        "    ax.set_aspect(\"equal\")\n",
        "    ax.set_axis_off()\n",
        "    fig.colorbar(tripcolor)\n",
        "\n",
        "    for i, (xi, yi) in enumerate(top_value_positions):\n",
        "        plt.text(xi, yi, round(top.flatten()[i], 2), size=11, color=\"w\")\n",
        "    for i, (xi, yi) in enumerate(right_value_positions):\n",
        "        plt.text(xi, yi, round(right.flatten()[i], 2), size=11, color=\"w\")\n",
        "    for i, (xi, yi) in enumerate(left_value_positions):\n",
        "        plt.text(xi, yi, round(left.flatten()[i], 2), size=11, color=\"w\")\n",
        "    for i, (xi, yi) in enumerate(bottom_value_positions):\n",
        "        plt.text(xi, yi, round(bottom.flatten()[i], 2), size=11, color=\"w\")\n",
        "\n",
        "    plt.show()"
      ],
      "execution_count": 3,
      "outputs": []
    },
    {
      "cell_type": "code",
      "metadata": {
        "id": "efUzqrJHrtLw"
      },
      "source": [
        "def plot_triangular(left, bottom, right, top, ax=None, triplotkw={}, tripcolorkw={}):\n",
        "\n",
        "    if not ax:\n",
        "        ax = plt.gca()\n",
        "    n = left.shape[0]\n",
        "    m = left.shape[1]\n",
        "\n",
        "    a = np.array([[0, 0], [0, 1], [0.5, 0.5], [1, 0], [1, 1]])\n",
        "    tr = np.array([[0, 1, 2], [0, 2, 3], [2, 3, 4], [1, 2, 4]])\n",
        "\n",
        "    A = np.zeros((n * m * 5, 2))\n",
        "    Tr = np.zeros((n * m * 4, 3))\n",
        "\n",
        "    for i in range(n):\n",
        "        for j in range(m):\n",
        "            k = i * m + j\n",
        "            A[k * 5 : (k + 1) * 5, :] = np.c_[a[:, 0] + j, a[:, 1] + i]\n",
        "            Tr[k * 4 : (k + 1) * 4, :] = tr + k * 5\n",
        "\n",
        "    C = np.c_[\n",
        "        left.flatten(), bottom.flatten(), right.flatten(), top.flatten()\n",
        "    ].flatten()\n",
        "\n",
        "    _ = ax.triplot(A[:, 0], A[:, 1], Tr, **triplotkw)\n",
        "    tripcolor = ax.tripcolor(A[:, 0], A[:, 1], Tr, facecolors=C, **tripcolorkw)\n",
        "    return tripcolor"
      ],
      "execution_count": 4,
      "outputs": []
    },
    {
      "cell_type": "markdown",
      "metadata": {
        "id": "wrUndMB0r0Qu"
      },
      "source": [
        "---"
      ]
    },
    {
      "cell_type": "code",
      "metadata": {
        "colab": {
          "base_uri": "https://localhost:8080/"
        },
        "collapsed": true,
        "id": "FTrVSToFr0Qy",
        "outputId": "58603ca3-cb28-4aa5-8bea-5c381554bf1a"
      },
      "source": [
        "# !pip install -q watermark\n",
        "# %reload_ext watermark\n",
        "# %watermark -a \"Sparsh A.\" -m -iv -u -t -d"
      ],
      "execution_count": 6,
      "outputs": [
        {
          "output_type": "stream",
          "name": "stdout",
          "text": [
            "Author: Sparsh A.\n",
            "\n",
            "Last updated: 2021-12-03 14:25:46\n",
            "\n",
            "Compiler    : GCC 7.5.0\n",
            "OS          : Linux\n",
            "Release     : 5.4.104+\n",
            "Machine     : x86_64\n",
            "Processor   : x86_64\n",
            "CPU cores   : 2\n",
            "Architecture: 64bit\n",
            "\n",
            "seaborn   : 0.11.2\n",
            "numpy     : 1.19.5\n",
            "IPython   : 5.5.0\n",
            "matplotlib: 3.2.2\n",
            "\n"
          ]
        }
      ]
    },
    {
      "cell_type": "markdown",
      "metadata": {
        "id": "VRKu8uS7r0Q1"
      },
      "source": [
        "---"
      ]
    },
    {
      "cell_type": "markdown",
      "metadata": {
        "id": "9xaPxOTGr0Q2"
      },
      "source": [
        "**END**"
      ]
    }
  ]
}